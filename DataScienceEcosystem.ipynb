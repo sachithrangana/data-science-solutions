{
 "cells": [
  {
   "attachments": {},
   "cell_type": "markdown",
   "id": "dfad6212-3995-472e-a397-bd8c6ee78bc1",
   "metadata": {
    "tags": []
   },
   "source": [
    "<h1>Data Science Tools and Ecosystem</h1>"
   ]
  },
  {
   "attachments": {},
   "cell_type": "markdown",
   "id": "88534e11-5a15-4542-a2d9-7db29fe2e178",
   "metadata": {},
   "source": [
    "<p>In this notebook, Data Science Tools and Ecosystem are summarized.</p>"
   ]
  },
  {
   "attachments": {},
   "cell_type": "markdown",
   "id": "5a1724f2",
   "metadata": {},
   "source": [
    "<strong>Objectives:</strong>\n",
    "<ul>\n",
    "    <li>List popular languages for Data Science</li>\n",
    "    <li>List commonly used libraries for Data Science</li>\n",
    "    <li>List tools for Data Science</li>\n",
    "    <li>Display arithmetic operations on python</li>\n",
    "</ul>"
   ]
  },
  {
   "attachments": {},
   "cell_type": "markdown",
   "id": "1e11256d-fca4-4a19-858b-3f449fad8422",
   "metadata": {},
   "source": [
    "Some of the popular languages that Data Scientists use are:\n",
    "<ol>\n",
    "    <li>Python</li>\n",
    "    <li>R</li>\n",
    "    <li>Julia</li>\n",
    "</ol>"
   ]
  },
  {
   "attachments": {},
   "cell_type": "markdown",
   "id": "51399865-3507-4b3b-bb8b-bd1d14b7c77c",
   "metadata": {},
   "source": [
    "<P>Some of the commonly used libraries used by Data Scientists include:</P>\n",
    "<ol>\n",
    "    <li>NumPy</li>\n",
    "    <li>Pandas</li>\n",
    "    <li>pyTorch</li>\n",
    "</ol>\n"
   ]
  },
  {
   "attachments": {},
   "cell_type": "markdown",
   "id": "75c83d2f-3ce7-473e-b944-4681e55cbdbb",
   "metadata": {},
   "source": [
    "<table>\n",
    "\n",
    "<tr>\n",
    "    <th>Data Science Tools</th>\n",
    "</tr>\n",
    "\n",
    "<tr>\n",
    "    <td>TensorFlow</td>\n",
    "</tr>\n",
    "    \n",
    "<tr>\n",
    "    <td>Apache Spark</td>\n",
    "</tr>\n",
    "\n",
    "<tr>\n",
    "    <td>Scikit-learn</td>\n",
    "</tr>\n",
    "\n",
    "\n",
    "</table>"
   ]
  },
  {
   "attachments": {},
   "cell_type": "markdown",
   "id": "0eec2099-0517-42e4-ad9a-60b74246379b",
   "metadata": {},
   "source": [
    "<h3>Below are a few examples of evaluating arithmetic expressions in Python</h3>"
   ]
  },
  {
   "cell_type": "code",
   "execution_count": null,
   "id": "e11c4d8c-16ef-46ba-8418-e2ccce8a399c",
   "metadata": {},
   "outputs": [],
   "source": [
    "#This a simple arithmetic expression to mutiply then add integers\n",
    "print((3 * 4) + 5)"
   ]
  },
  {
   "cell_type": "code",
   "execution_count": null,
   "id": "5e925fa3",
   "metadata": {},
   "outputs": [],
   "source": [
    "#This will convert 200 minutes to hours by diving by 60\n",
    "print(200/60)"
   ]
  },
  {
   "attachments": {},
   "cell_type": "markdown",
   "id": "d2e57c38",
   "metadata": {},
   "source": [
    "<h2>Author</h2>\n",
    "Kindiwalage Sachith Rangana"
   ]
  }
 ],
 "metadata": {
  "kernelspec": {
   "display_name": "Python",
   "language": "python",
   "name": "conda-env-python-py"
  },
  "language_info": {
   "codemirror_mode": {
    "name": "ipython",
    "version": 3
   },
   "file_extension": ".py",
   "mimetype": "text/x-python",
   "name": "python",
   "nbconvert_exporter": "python",
   "pygments_lexer": "ipython3",
   "version": "3.7.12"
  }
 },
 "nbformat": 4,
 "nbformat_minor": 5
}
